{
 "cells": [
  {
   "cell_type": "code",
   "execution_count": 1,
   "metadata": {},
   "outputs": [],
   "source": [
    "#importing required libraries\n",
    "import tweepy\n",
    "import csv \n",
    "import twitter_credentials\n",
    "import time"
   ]
  },
  {
   "cell_type": "code",
   "execution_count": 2,
   "metadata": {},
   "outputs": [],
   "source": [
    "start_time = time.clock()"
   ]
  },
  {
   "cell_type": "code",
   "execution_count": 3,
   "metadata": {},
   "outputs": [],
   "source": [
    "#Consumer keys and access tokens, used for Authenication the app \n",
    "consumer_key = twitter_credentials.CONSUMER_KEY\n",
    "consumer_secret = twitter_credentials.CONSUMER_SECRET\n",
    "access_token = twitter_credentials.ACCESS_TOKEN\n",
    "access_token_secret = twitter_credentials.ACCESS_TOKEN_SECRET"
   ]
  },
  {
   "cell_type": "code",
   "execution_count": 4,
   "metadata": {},
   "outputs": [],
   "source": [
    "# Authenicating process, using the keys and tokens\n",
    "auth = tweepy.OAuthHandler(consumer_key, consumer_secret)\n",
    "auth.set_access_token(access_token, access_token_secret)\n",
    "\n",
    "#Connecting the twitter api\n",
    "api = tweepy.API(auth)"
   ]
  },
  {
   "cell_type": "code",
   "execution_count": 5,
   "metadata": {},
   "outputs": [],
   "source": [
    "#Creating a file to append data\n",
    "csvFile = open('Twitter_data_sabrimalai_issue.csv', 'a')\n",
    "csvWriter = csv.writer(csvFile)"
   ]
  },
  {
   "cell_type": "code",
   "execution_count": 6,
   "metadata": {},
   "outputs": [
    {
     "name": "stdout",
     "output_type": "stream",
     "text": [
      "Number of unique ids seen so far:  25\n"
     ]
    }
   ],
   "source": [
    "ids = set()\n",
    "tags = [\"SabkaSabarimalaTemple\",\"savesabarimala\"]\n",
    "for tag in tags:\n",
    "    for tweet in tweepy.Cursor(api.search,q=tag,lang=\"en\",rpp=100).items(200):\n",
    "    \n",
    "        #for escaping/eliminating from retweets\n",
    "        if (not tweet.retweeted) and ('RT @' not in tweet.text):\n",
    "        \n",
    "            #Writing a row to the csv file with encode utf-8\n",
    "            csvWriter.writerow([tweet.created_at, tweet.text.encode('utf-8'), tweet.favorite_count, tweet.retweet_count, tweet.id, tweet.user.screen_name])\n",
    "        \n",
    "            # Printing the no.of tweets downloaded with id\n",
    "            ids.add(tweet.id)\n",
    "print (\"Number of unique ids seen so far: \",format(len(ids)))\n",
    "csvFile.close()"
   ]
  },
  {
   "cell_type": "code",
   "execution_count": 7,
   "metadata": {},
   "outputs": [
    {
     "name": "stdout",
     "output_type": "stream",
     "text": [
      "data Collection is done\n",
      "Total time taken for programme to complete 26.91621802873544 seconds\n"
     ]
    }
   ],
   "source": [
    "print(\"data Collection is done\")\n",
    "end_time = time.clock()-start_time\n",
    "print(\"Total time taken for programme to complete {} seconds\".format(end_time))"
   ]
  },
  {
   "cell_type": "code",
   "execution_count": null,
   "metadata": {},
   "outputs": [],
   "source": []
  }
 ],
 "metadata": {
  "kernelspec": {
   "display_name": "Python 3",
   "language": "python",
   "name": "python3"
  },
  "language_info": {
   "codemirror_mode": {
    "name": "ipython",
    "version": 3
   },
   "file_extension": ".py",
   "mimetype": "text/x-python",
   "name": "python",
   "nbconvert_exporter": "python",
   "pygments_lexer": "ipython3",
   "version": "3.7.3"
  }
 },
 "nbformat": 4,
 "nbformat_minor": 2
}
